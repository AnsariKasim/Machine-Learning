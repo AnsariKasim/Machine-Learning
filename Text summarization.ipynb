{
 "cells": [
  {
   "cell_type": "code",
   "execution_count": 1,
   "id": "917b6de7",
   "metadata": {},
   "outputs": [],
   "source": [
    "import nltk\n",
    "from nltk.corpus import stopwords\n",
    "from nltk.tokenize import word_tokenize, sent_tokenize\n",
    "import re\n",
    "import heapq\n",
    "from nltk.probability import FreqDist"
   ]
  },
  {
   "cell_type": "code",
   "execution_count": 2,
   "id": "1ec778a3",
   "metadata": {},
   "outputs": [],
   "source": [
    "def nltk_summary(book_text):\n",
    "    \n",
    "    book_text = re.sub(r'\\[[0-9]*\\]', ' ', book_text)\n",
    "    book_text = re.sub(r'\\s+', ' ', book_text)\n",
    "    formatted_text = re.sub('[^a-zA-Z]', ' ', book_text )\n",
    "    formatted_text = re.sub(r'\\s+', ' ', formatted_text)\n",
    "\n",
    "    sentence_list = nltk.sent_tokenize(book_text)\n",
    "\n",
    "    stopwords = nltk.corpus.stopwords.words('english')\n",
    "\n",
    "    word_frequencies = {}\n",
    "    for word in nltk.word_tokenize(formatted_text):\n",
    "        if word not in stopwords:\n",
    "            if word not in word_frequencies.keys():\n",
    "                word_frequencies[word] = 1\n",
    "            else:\n",
    "                word_frequencies[word] += 1\n",
    "\n",
    "    maximum_frequncy = max(word_frequencies.values())\n",
    "\n",
    "    for word in word_frequencies.keys():\n",
    "        word_frequencies[word] = (word_frequencies[word]/maximum_frequncy)\n",
    "\n",
    "\n",
    "    sentence_scores = {}\n",
    "    for sent in sentence_list:\n",
    "        for word in nltk.word_tokenize(sent.lower()):\n",
    "            if word in word_frequencies.keys():\n",
    "                if len(sent.split(' ')) < 100:\n",
    "                    if sent not in sentence_scores.keys():\n",
    "                        sentence_scores[sent] = word_frequencies[word]\n",
    "                    else:\n",
    "                        sentence_scores[sent] += word_frequencies[word]\n",
    "\n",
    "\n",
    "    summary_sentences = heapq.nlargest(7, sentence_scores, key=sentence_scores.get)\n",
    "\n",
    "    summary = ' '.join(summary_sentences)\n",
    "    return(summary)"
   ]
  },
  {
   "cell_type": "code",
   "execution_count": 3,
   "id": "a22b8ee0",
   "metadata": {},
   "outputs": [],
   "source": [
    "with open('D:\\project\\Group of eastern romances.txt', encoding='utf-8') as f:\n",
    "    line = f.readlines()\n",
    "    book_text = ''.join(line)"
   ]
  },
  {
   "cell_type": "code",
   "execution_count": 4,
   "id": "6f81b3d0",
   "metadata": {},
   "outputs": [
    {
     "data": {
      "text/plain": [
       "'He went to the river, and calling Shoayb privately apart, asked him: “Are you the stranger among the fishermen?” But Shoayb, suspecting that this man might be the precursor of a caravan of fresh misfortunes, answered: “I am one of the fishermen.” Then said the man: “Go and send the young stranger to me.” Shoayb went and told one of the fishermen that a servant of the king wanted to see him, and when he came the man handed him the bag of gold, without asking any questions, delivered the king’s orders, and departed. “O King,” said I, “all the robbers are already captured, and if you will permit, I shall bring them into your presence.” When the king and his courtiers beheld Tamurtash the ascetic and his disciples they were amazed, and the king straightway caused them all to be put to death, saying: “That woman stated the truth the first time also, but we gave no credit to her words; she has suffered innocently, and now we have no means to make good our error.” But I replied, smiling: “That poor woman am I, O King,” and related the whole affair. When the king heard that he sent for the merchant and said to him: “Tell me who fetched you the _nágabalá_?” The merchant said: “My servant, your highness.” When the king got this answer from the merchant he quickly summoned the servant and said to him: “Give up that treasure belonging to a Bráhman, consisting of a store of dínars, which you found when you were digging at the foot of a tree for _nágabalá_.” When the king said this to him the servant was frightened, and confessed immediately; and bringing those dínars, left them there. Shoayb, who had remained by the river, now reflected that, as the king’s messengers had several times been there and always asked for the stranger, and as his companions had disappeared, it would not be safe for him to continue longer in that place, especially as it appeared probable that the king bore enmity to strangers; and therefore he betook himself to the city, so that when the king again sent a messenger he could find no one, and his majesty was once more disappointed in his well-meant efforts to assist the poor stranger. Therefore I must make the utmost efforts and concoct a plan by which Khoja Bashír will not only lose the regard of the king but be either put to death or exiled from this city.” Day and night this purpose was uppermost in his mind, until on one occasion he happened to be alone with the sultan, and availing himself of the opportunity he said to his majesty: “O king of high lineage and great power, By thy existence the throne’s glory is honoured! And Kuvera said: “Since, humiliating all the Yakshas, thou hast, O thou of sinful deeds, given away thy own sex to Sikhandin and taken from her, O thou wicked of understanding, her womanhood—since, O wicked wretch, thou hast done what hath never been done before by anybody;—therefore, from this day, thou shalt remain a woman and she shall remain a man!” At these words all the Yakshas attempted to mollify Kuvera for the sake of Sthuna, saying: “Set a limit to thy curse!” Then the lord of the Yakshas said: “After Sikhandin’s death, Sthuna will regain his own form. I have left my home in the hope of entering the service of your majesty, and I venture to express the wish that I may be admitted among the number of officers attached to your royal person.” “I accept your services,” said the king; “remain with me.” For some time Bakáwalí performed her new duties, till one day the four sons of the king presented themselves at court.'"
      ]
     },
     "execution_count": 4,
     "metadata": {},
     "output_type": "execute_result"
    }
   ],
   "source": [
    "nltk_summary(book_text)"
   ]
  }
 ],
 "metadata": {
  "kernelspec": {
   "display_name": "Python 3 (ipykernel)",
   "language": "python",
   "name": "python3"
  },
  "language_info": {
   "codemirror_mode": {
    "name": "ipython",
    "version": 3
   },
   "file_extension": ".py",
   "mimetype": "text/x-python",
   "name": "python",
   "nbconvert_exporter": "python",
   "pygments_lexer": "ipython3",
   "version": "3.10.2"
  }
 },
 "nbformat": 4,
 "nbformat_minor": 5
}
